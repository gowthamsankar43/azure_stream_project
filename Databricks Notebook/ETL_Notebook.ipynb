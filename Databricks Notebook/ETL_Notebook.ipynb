{
 "cells": [
  {
   "cell_type": "code",
   "execution_count": 0,
   "metadata": {
    "application/vnd.databricks.v1+cell": {
     "cellMetadata": {
      "byteLimit": 2048000,
      "rowLimit": 10000
     },
     "inputWidgets": {},
     "nuid": "763ec022-dd45-44fe-8653-3704e89e27b5",
     "showTitle": false,
     "tableResultSettingsMap": {},
     "title": ""
    }
   },
   "outputs": [],
   "source": [
    "service_credential = dbutils.secrets.get(scope=\"adlsconnect\",key=\"client-app-secret\")\n",
    "\n",
    "spark.conf.set(\"fs.azure.account.auth.type.streamingstoragelake1234.dfs.core.windows.net\", \"OAuth\")\n",
    "spark.conf.set(\"fs.azure.account.oauth.provider.type.streamingstoragelake1234.dfs.core.windows.net\", \"org.apache.hadoop.fs.azurebfs.oauth2.ClientCredsTokenProvider\")\n",
    "spark.conf.set(\"fs.azure.account.oauth2.client.id.streamingstoragelake1234.dfs.core.windows.net\", \"39add582-5553-41f7-bd5f-4f455edc1b05\")\n",
    "spark.conf.set(\"fs.azure.account.oauth2.client.secret.streamingstoragelake1234.dfs.core.windows.net\", service_credential)\n",
    "spark.conf.set(\"fs.azure.account.oauth2.client.endpoint.streamingstoragelake1234.dfs.core.windows.net\", \"https://login.microsoftonline.com/a3881e6f-f92f-449c-b7e6-e9df56edaf30/oauth2/token\")"
   ]
  },
  {
   "cell_type": "code",
   "execution_count": 0,
   "metadata": {
    "application/vnd.databricks.v1+cell": {
     "cellMetadata": {
      "byteLimit": 2048000,
      "rowLimit": 10000
     },
     "inputWidgets": {},
     "nuid": "d310ea5d-d300-4c28-850d-1269114f4922",
     "showTitle": false,
     "tableResultSettingsMap": {},
     "title": ""
    }
   },
   "outputs": [
    {
     "output_type": "stream",
     "name": "stdout",
     "output_type": "stream",
     "text": [
      "+--------------------+------------------+----------+--------+------+----------+----------------------+---------------------+-----------+--------------------+\n|            Order ID|     Customer Name|Product ID|Quantity| Price|Order Date|Order Delivery Address|EventProcessedUtcTime|PartitionId|EventEnqueuedUtcTime|\n+--------------------+------------------+----------+--------+------+----------+----------------------+---------------------+-----------+--------------------+\n|32f06e7d-71ac-440...|       Robert Dean|         5|      18|941.35|2024-05-12|  USNS Reyes\\nFPO A...| 2024-12-02 15:59:...|          3|2024-12-02 15:59:...|\n|f51991a3-00c0-444...|     Brian Bridges|        13|       1|610.07|2024-08-24|  25797 Timothy Cor...| 2024-12-02 15:59:...|          3|2024-12-02 15:59:...|\n|c8d01c31-3864-440...| Elizabeth Rose MD|        19|      12|268.63|2024-08-10|  743 Schaefer Junc...| 2024-12-02 15:59:...|          3|2024-12-02 15:59:...|\n|dde77aca-3d14-43f...|  Frederick Stokes|        12|      46|383.91|2024-08-04|  95920 Benjamin Ma...| 2024-12-02 15:59:...|          3|2024-12-02 15:59:...|\n|008d473f-9329-40f...|   Parker Williams|        15|       3| 761.2|2024-11-15|  764 Garcia Flats ...| 2024-12-02 15:59:...|          3|2024-12-02 15:59:...|\n|06648f1f-1b9d-47a...|     Michael Patel|        10|      38|734.33|2024-03-13|  76988 Mcfarland L...| 2024-12-02 15:59:...|          3|2024-12-02 15:59:...|\n|71ac3ac9-f64f-408...| Melissa Alexander|        20|      32| 76.72|2024-08-27|  Unit 8316 Box 622...| 2024-12-02 15:59:...|          3|2024-12-02 15:59:...|\n|64021702-32f5-42b...|     Amanda Norris|         3|      14|699.01|2024-07-28|  PSC 0412, Box 716...| 2024-12-02 15:59:...|          3|2024-12-02 15:59:...|\n|69c21ef0-3dd2-461...|    Michael Morgan|         8|      15|781.59|2024-11-16|  506 Leah Coves Ap...| 2024-12-02 16:00:...|          3|2024-12-02 15:59:...|\n|17787f18-ad5c-457...|      Emily Cooper|         7|      28|344.58|2024-11-25|  09394 Harris Cent...| 2024-12-02 16:00:...|          3|2024-12-02 15:59:...|\n|7cc7838d-7f05-47c...|      Walter Jones|         6|      18|513.63|2024-03-01|  92733 Silva Spur\\...| 2024-12-02 16:00:...|          3|2024-12-02 15:59:...|\n|b345df17-ac92-448...|  Kelly Cunningham|        10|      31|908.92|2024-05-30|  4842 Nicholas Bro...| 2024-12-02 16:00:...|          3|2024-12-02 15:59:...|\n|189d494a-3d4f-4a0...|      William Pope|        20|      25|521.12|2024-04-24|  035 Green Junctio...| 2024-12-02 16:00:...|          3|2024-12-02 15:59:...|\n|f98655c3-6aa4-425...|       Alison Cole|         7|       7|853.49|2024-06-18|  PSC 8522, Box 836...| 2024-12-02 16:00:...|          3|2024-12-02 15:59:...|\n|8dfb3ae4-a2b2-4d9...|   Candice Bradley|        12|      47|247.61|2024-03-29|  68384 Owens Coves...| 2024-12-02 16:00:...|          3|2024-12-02 15:59:...|\n|4723959b-57f5-456...|Danielle Gutierrez|         4|      29|356.52|2024-07-09|  82358 Angela Junc...| 2024-12-02 16:00:...|          3|2024-12-02 15:59:...|\n|e688afb1-9c4b-42d...|       Misty Jones|        20|      24|589.93|2024-04-24|  8227 Darren Green...| 2024-12-02 16:00:...|          3|2024-12-02 15:59:...|\n|9a87a619-42f2-424...|       Jordan Mack|        19|      41|  61.5|2024-02-27|  Unit 3922 Box 933...| 2024-12-02 16:00:...|          3|2024-12-02 15:59:...|\n|27329a6d-0961-4e4...|     Regina Garcia|         9|      41| 76.74|2024-07-21|  406 Randy Highway...| 2024-12-02 16:00:...|          3|2024-12-02 15:59:...|\n|315d64b8-979b-4d0...|      Tyler Hunter|        14|      23|405.27|2024-07-05|  15367 Baker Stree...| 2024-12-02 16:00:...|          3|2024-12-02 15:59:...|\n+--------------------+------------------+----------+--------+------+----------+----------------------+---------------------+-----------+--------------------+\nonly showing top 20 rows\n\n"
     ]
    }
   ],
   "source": [
    "from pyspark.sql.types import StructType, StructField, StringType, DoubleType, LongType, TimestampType,DateType,IntegerType\n",
    "from pyspark.sql.functions import sum,col,broadcast,round\n",
    "\n",
    "schema = StructType([ \n",
    "    StructField(\"Order Id\", StringType(), False), \n",
    "    StructField(\"Customer Name\", StringType(), True), \n",
    "    StructField(\"Product ID\", LongType(), True), \n",
    "    StructField(\"Quantity\", LongType(),True),\n",
    "    StructField(\"Price\", DoubleType(),True),\n",
    "    StructField(\"Order Date\", StringType(), False),  \n",
    "    StructField(\"Order Delivery Address\", StringType(), False),    \n",
    "    StructField(\"EventProcessedUtcTime\", TimestampType(), True),\n",
    "    StructField(\"PartitionId\", LongType(), True),\n",
    "    StructField(\"EventEnqueuedUtcTime\", TimestampType(), True) \n",
    "])\n",
    "# Example of how to use this schema when reading a JSON file\n",
    "df = spark.read.format(\"parquet\").schema(schema)\\\n",
    "    .load(\"abfss://stgfolder@streamingstoragelake1234.dfs.core.windows.net/stream_data\")\n",
    "\n",
    "renamed_df = df.select(col(\"Order Id\").alias(\"orderid\"),col(\"Customer Name\").alias(\"customername\"),col(\"Product Id\").alias(\"productId\"),col(\"Quantity\"),col(\"price\"),col(\"Order Date\").cast(DateType()).alias(\"orderDate\"),col(\"Order Delivery Address\").alias(\"address\"))"
   ]
  },
  {
   "cell_type": "code",
   "execution_count": 0,
   "metadata": {
    "application/vnd.databricks.v1+cell": {
     "cellMetadata": {},
     "inputWidgets": {},
     "nuid": "38c774cd-2fdc-4bb2-87a9-837480559503",
     "showTitle": false,
     "tableResultSettingsMap": {},
     "title": ""
    }
   },
   "outputs": [],
   "source": [
    "date_schema = StructType([ \n",
    "                StructField(\"DateKey\", IntegerType(), True), \n",
    "                StructField(\"Date\", DateType(), True), \n",
    "                StructField(\"Year\", IntegerType(), True), \n",
    "                StructField(\"Quarter\", IntegerType(), True), \n",
    "                StructField(\"Month\", IntegerType(), True), \n",
    "                StructField(\"Day\", IntegerType(), True), \n",
    "                StructField(\"Weekday\", IntegerType(), True), \n",
    "                StructField(\"WeekOfYear\", IntegerType(), True), \n",
    "                StructField(\"DayName\", StringType(), True), \n",
    "                StructField(\"IsHoliday\", IntegerType(), True) ])\n",
    "\n",
    "date_df = spark.read.format(\"csv\").option(\"header\",True).schema(date_schema).load(\"abfss://stgfolder@streamingstoragelake1234.dfs.core.windows.net/Date_Dimension/date_dimension.csv\")"
   ]
  },
  {
   "cell_type": "code",
   "execution_count": 0,
   "metadata": {
    "application/vnd.databricks.v1+cell": {
     "cellMetadata": {},
     "inputWidgets": {},
     "nuid": "cbcfb1dc-046d-4f05-9840-69f8cefe29bc",
     "showTitle": false,
     "tableResultSettingsMap": {},
     "title": ""
    }
   },
   "outputs": [],
   "source": [
    "#Product details\n",
    "product_schema = StructType([ \n",
    "                StructField(\"productId\", IntegerType(), True), \n",
    "                StructField(\"productName\", StringType(), True)])\n",
    "\n",
    "product_df = spark.read.format(\"csv\").option(\"header\", \"true\").schema(product_schema).load(\"abfss://stgfolder@streamingstoragelake1234.dfs.core.windows.net/Product_Dimension/product_details.csv\")\n",
    "\n",
    "\n",
    "#product_df.write.format('delta').saveAsTable(\"products\")"
   ]
  },
  {
   "cell_type": "code",
   "execution_count": 0,
   "metadata": {
    "application/vnd.databricks.v1+cell": {
     "cellMetadata": {},
     "inputWidgets": {},
     "nuid": "b846a56b-7fe0-406c-bb49-140f366b5890",
     "showTitle": false,
     "tableResultSettingsMap": {},
     "title": ""
    }
   },
   "outputs": [],
   "source": [
    "master_df = renamed_df\\\n",
    "    .join(date_df, renamed_df.orderDate == date_df.Date)\\\n",
    "    .join(broadcast(product_df), renamed_df.productId == product_df.productId)\\\n",
    "    .select(renamed_df.orderid,renamed_df.customername,renamed_df.productId,renamed_df.Quantity,renamed_df.price,renamed_df.orderDate,renamed_df.address,date_df.Date,date_df.Year,date_df.Month,date_df.Quarter,product_df.productName)"
   ]
  },
  {
   "cell_type": "code",
   "execution_count": 0,
   "metadata": {
    "application/vnd.databricks.v1+cell": {
     "cellMetadata": {},
     "inputWidgets": {},
     "nuid": "1ad5c0a5-4d2e-41e3-8d30-cc0fde0f52ae",
     "showTitle": false,
     "tableResultSettingsMap": {},
     "title": ""
    }
   },
   "outputs": [],
   "source": [
    "#Total Sales As on date\n",
    "Total_Sales= master_df\\\n",
    "    .groupBy(\"productName\")\\\n",
    "    .agg(sum(\"Quantity\").alias(\"Total_Sold\"), round(sum(\"price\"),2).alias(\"total_amount\"))\\\n",
    "    .select(\"productName\",\"Total_Sold\",\"total_amount\")\n",
    "Total_Sales.show()\n",
    "Total_Sales\\\n",
    "    .write\\\n",
    "    .mode(\"overwrite\")\\\n",
    "    .format('delta')\\\n",
    "    .save(\"abfss://aggdata@streamingstoragelake1234.dfs.core.windows.net/total_sales\")"
   ]
  },
  {
   "cell_type": "code",
   "execution_count": 0,
   "metadata": {
    "application/vnd.databricks.v1+cell": {
     "cellMetadata": {},
     "inputWidgets": {},
     "nuid": "5bda8e29-6070-4850-9374-95be43b33053",
     "showTitle": false,
     "tableResultSettingsMap": {},
     "title": ""
    }
   },
   "outputs": [],
   "source": [
    "# Monthwise_Sold\n",
    "\n",
    "month_wise_sales_df = master_df\\\n",
    "    .groupBy(\"Year\",\"Month\",\"productName\")\\\n",
    "    .agg(sum(\"Quantity\").alias(\"Total_Sold\"), round(sum(\"price\"),2).alias(\"total_amount\"))\\\n",
    "    .select(\"productName\",\"Year\",\"Month\",\"Total_Sold\",\"total_amount\")\\\n",
    "    .orderBy(\"Month\")\n",
    "month_wise_sales_df.show()\n",
    "month_wise_sales_df.write.mode(\"overwrite\").format('delta').partitionBy('Year','Month').save(\"abfss://aggdata@streamingstoragelake1234.dfs.core.windows.net/month_wise_sales\")"
   ]
  }
 ],
 "metadata": {
  "application/vnd.databricks.v1+notebook": {
   "dashboards": [],
   "environmentMetadata": {
    "base_environment": "",
    "client": "1"
   },
   "language": "python",
   "notebookMetadata": {
    "pythonIndentUnit": 4
   },
   "notebookName": "ETL_Notebook",
   "widgets": {}
  },
  "language_info": {
   "name": "python"
  }
 },
 "nbformat": 4,
 "nbformat_minor": 0
}